{
  "cells": [
    {
      "cell_type": "markdown",
      "metadata": {
        "id": "view-in-github",
        "colab_type": "text"
      },
      "source": [
        "<a href=\"https://colab.research.google.com/github/Anessa-Petteruti/Bot-hoven/blob/main/PianoGenLSTM.ipynb\" target=\"_parent\"><img src=\"https://colab.research.google.com/assets/colab-badge.svg\" alt=\"Open In Colab\"/></a>"
      ]
    },
    {
      "cell_type": "markdown",
      "metadata": {
        "id": "1nkzzWkL3XZp"
      },
      "source": [
        "This notebook is recreated from the following individual's repo: https://github.com/AryanRaj315/Music-Generation-using-LSTM-networks/blob/master/Music_GEneration_LSTM.ipynb"
      ]
    },
    {
      "cell_type": "code",
      "execution_count": null,
      "metadata": {
        "colab": {
          "base_uri": "https://localhost:8080/"
        },
        "id": "UDa8VKx5cG6R",
        "outputId": "1989c4a5-f93f-4eb0-861b-b7bebe591050"
      },
      "outputs": [
        {
          "output_type": "stream",
          "name": "stdout",
          "text": [
            "Thu May 12 10:06:14 2022       \n",
            "+-----------------------------------------------------------------------------+\n",
            "| NVIDIA-SMI 460.32.03    Driver Version: 460.32.03    CUDA Version: 11.2     |\n",
            "|-------------------------------+----------------------+----------------------+\n",
            "| GPU  Name        Persistence-M| Bus-Id        Disp.A | Volatile Uncorr. ECC |\n",
            "| Fan  Temp  Perf  Pwr:Usage/Cap|         Memory-Usage | GPU-Util  Compute M. |\n",
            "|                               |                      |               MIG M. |\n",
            "|===============================+======================+======================|\n",
            "|   0  Tesla P100-PCIE...  Off  | 00000000:00:04.0 Off |                    0 |\n",
            "| N/A   35C    P0    28W / 250W |      0MiB / 16280MiB |      0%      Default |\n",
            "|                               |                      |                  N/A |\n",
            "+-------------------------------+----------------------+----------------------+\n",
            "                                                                               \n",
            "+-----------------------------------------------------------------------------+\n",
            "| Processes:                                                                  |\n",
            "|  GPU   GI   CI        PID   Type   Process name                  GPU Memory |\n",
            "|        ID   ID                                                   Usage      |\n",
            "|=============================================================================|\n",
            "|  No running processes found                                                 |\n",
            "+-----------------------------------------------------------------------------+\n"
          ]
        }
      ],
      "source": [
        "gpu_info = !nvidia-smi\n",
        "gpu_info = '\\n'.join(gpu_info)\n",
        "if gpu_info.find('failed') >= 0:\n",
        "  print('Select the Runtime > \"Change runtime type\" menu to enable a GPU accelerator, ')\n",
        "  print('and then re-execute this cell.')\n",
        "else:\n",
        "  print(gpu_info)"
      ]
    },
    {
      "cell_type": "code",
      "execution_count": null,
      "metadata": {
        "colab": {
          "base_uri": "https://localhost:8080/"
        },
        "id": "z3uPy8NxcPRZ",
        "outputId": "0960a57b-e7f0-47d6-b72c-7e75b8561ad4"
      },
      "outputs": [
        {
          "output_type": "stream",
          "name": "stdout",
          "text": [
            "Your runtime has 13.6 gigabytes of available RAM\n",
            "\n",
            "To enable a high-RAM runtime, select the Runtime > \"Change runtime type\"\n",
            "menu, and then select High-RAM in the Runtime shape dropdown. Then, \n",
            "re-execute this cell.\n"
          ]
        }
      ],
      "source": [
        "from psutil import virtual_memory\n",
        "ram_gb = virtual_memory().total / 1e9\n",
        "print('Your runtime has {:.1f} gigabytes of available RAM\\n'.format(ram_gb))\n",
        "\n",
        "if ram_gb < 20:\n",
        "  print('To enable a high-RAM runtime, select the Runtime > \"Change runtime type\"')\n",
        "  print('menu, and then select High-RAM in the Runtime shape dropdown. Then, ')\n",
        "  print('re-execute this cell.')\n",
        "else:\n",
        "  print('You are using a high-RAM runtime!')"
      ]
    },
    {
      "cell_type": "code",
      "execution_count": null,
      "metadata": {
        "colab": {
          "base_uri": "https://localhost:8080/"
        },
        "id": "kkLzlKUhL7Jm",
        "outputId": "5641e109-46f4-4e6e-b0fa-fedd66847319"
      },
      "outputs": [
        {
          "output_type": "stream",
          "name": "stdout",
          "text": [
            "Num GPUs Available:  1\n",
            "[PhysicalDevice(name='/physical_device:GPU:0', device_type='GPU')]\n"
          ]
        }
      ],
      "source": [
        "import tensorflow as tf\n",
        "print(\"Num GPUs Available: \", len(tf.config.list_physical_devices('GPU')))\n",
        "gpus = tf.config.list_physical_devices('GPU')\n",
        "print(gpus)"
      ]
    },
    {
      "cell_type": "code",
      "execution_count": null,
      "metadata": {
        "colab": {
          "base_uri": "https://localhost:8080/"
        },
        "id": "NnrngdbwXbG2",
        "outputId": "39bca3ec-1fa6-46c5-95a9-cf2589d1d4b0"
      },
      "outputs": [
        {
          "output_type": "stream",
          "name": "stdout",
          "text": [
            "Mounted at /content/gdrive\n"
          ]
        }
      ],
      "source": [
        "from google.colab import drive\n",
        "drive.mount('/content/gdrive', force_remount=False)\n",
        "root_dir = \"/content/gdrive/Shareddrives/Bot-hoven/\""
      ]
    },
    {
      "cell_type": "code",
      "execution_count": null,
      "metadata": {
        "colab": {
          "base_uri": "https://localhost:8080/"
        },
        "id": "mLmh1C8JX1dr",
        "outputId": "b8dd69e5-caac-40b8-bac5-a7c6a39990a8"
      },
      "outputs": [
        {
          "output_type": "stream",
          "name": "stdout",
          "text": [
            "Requirement already satisfied: tensorflow in /usr/local/lib/python3.7/dist-packages (2.8.0)\n",
            "Requirement already satisfied: libclang>=9.0.1 in /usr/local/lib/python3.7/dist-packages (from tensorflow) (14.0.1)\n",
            "Requirement already satisfied: numpy>=1.20 in /usr/local/lib/python3.7/dist-packages (from tensorflow) (1.21.6)\n",
            "Requirement already satisfied: wrapt>=1.11.0 in /usr/local/lib/python3.7/dist-packages (from tensorflow) (1.14.0)\n",
            "Requirement already satisfied: protobuf>=3.9.2 in /usr/local/lib/python3.7/dist-packages (from tensorflow) (3.17.3)\n",
            "Requirement already satisfied: google-pasta>=0.1.1 in /usr/local/lib/python3.7/dist-packages (from tensorflow) (0.2.0)\n",
            "Requirement already satisfied: astunparse>=1.6.0 in /usr/local/lib/python3.7/dist-packages (from tensorflow) (1.6.3)\n",
            "Requirement already satisfied: keras<2.9,>=2.8.0rc0 in /usr/local/lib/python3.7/dist-packages (from tensorflow) (2.8.0)\n",
            "Requirement already satisfied: keras-preprocessing>=1.1.1 in /usr/local/lib/python3.7/dist-packages (from tensorflow) (1.1.2)\n",
            "Requirement already satisfied: setuptools in /usr/local/lib/python3.7/dist-packages (from tensorflow) (57.4.0)\n",
            "Requirement already satisfied: absl-py>=0.4.0 in /usr/local/lib/python3.7/dist-packages (from tensorflow) (1.0.0)\n",
            "Requirement already satisfied: flatbuffers>=1.12 in /usr/local/lib/python3.7/dist-packages (from tensorflow) (2.0)\n",
            "Requirement already satisfied: gast>=0.2.1 in /usr/local/lib/python3.7/dist-packages (from tensorflow) (0.5.3)\n",
            "Requirement already satisfied: h5py>=2.9.0 in /usr/local/lib/python3.7/dist-packages (from tensorflow) (3.1.0)\n",
            "Requirement already satisfied: tensorflow-io-gcs-filesystem>=0.23.1 in /usr/local/lib/python3.7/dist-packages (from tensorflow) (0.25.0)\n",
            "Collecting tf-estimator-nightly==2.8.0.dev2021122109\n",
            "  Downloading tf_estimator_nightly-2.8.0.dev2021122109-py2.py3-none-any.whl (462 kB)\n",
            "\u001b[K     |████████████████████████████████| 462 kB 15.8 MB/s \n",
            "\u001b[?25hRequirement already satisfied: opt-einsum>=2.3.2 in /usr/local/lib/python3.7/dist-packages (from tensorflow) (3.3.0)\n",
            "Requirement already satisfied: typing-extensions>=3.6.6 in /usr/local/lib/python3.7/dist-packages (from tensorflow) (4.2.0)\n",
            "Requirement already satisfied: six>=1.12.0 in /usr/local/lib/python3.7/dist-packages (from tensorflow) (1.15.0)\n",
            "Requirement already satisfied: termcolor>=1.1.0 in /usr/local/lib/python3.7/dist-packages (from tensorflow) (1.1.0)\n",
            "Requirement already satisfied: grpcio<2.0,>=1.24.3 in /usr/local/lib/python3.7/dist-packages (from tensorflow) (1.44.0)\n",
            "Requirement already satisfied: tensorboard<2.9,>=2.8 in /usr/local/lib/python3.7/dist-packages (from tensorflow) (2.8.0)\n",
            "Requirement already satisfied: wheel<1.0,>=0.23.0 in /usr/local/lib/python3.7/dist-packages (from astunparse>=1.6.0->tensorflow) (0.37.1)\n",
            "Requirement already satisfied: cached-property in /usr/local/lib/python3.7/dist-packages (from h5py>=2.9.0->tensorflow) (1.5.2)\n",
            "Requirement already satisfied: google-auth-oauthlib<0.5,>=0.4.1 in /usr/local/lib/python3.7/dist-packages (from tensorboard<2.9,>=2.8->tensorflow) (0.4.6)\n",
            "Requirement already satisfied: google-auth<3,>=1.6.3 in /usr/local/lib/python3.7/dist-packages (from tensorboard<2.9,>=2.8->tensorflow) (1.35.0)\n",
            "Requirement already satisfied: tensorboard-plugin-wit>=1.6.0 in /usr/local/lib/python3.7/dist-packages (from tensorboard<2.9,>=2.8->tensorflow) (1.8.1)\n",
            "Requirement already satisfied: requests<3,>=2.21.0 in /usr/local/lib/python3.7/dist-packages (from tensorboard<2.9,>=2.8->tensorflow) (2.23.0)\n",
            "Requirement already satisfied: tensorboard-data-server<0.7.0,>=0.6.0 in /usr/local/lib/python3.7/dist-packages (from tensorboard<2.9,>=2.8->tensorflow) (0.6.1)\n",
            "Requirement already satisfied: werkzeug>=0.11.15 in /usr/local/lib/python3.7/dist-packages (from tensorboard<2.9,>=2.8->tensorflow) (1.0.1)\n",
            "Requirement already satisfied: markdown>=2.6.8 in /usr/local/lib/python3.7/dist-packages (from tensorboard<2.9,>=2.8->tensorflow) (3.3.6)\n",
            "Requirement already satisfied: rsa<5,>=3.1.4 in /usr/local/lib/python3.7/dist-packages (from google-auth<3,>=1.6.3->tensorboard<2.9,>=2.8->tensorflow) (4.8)\n",
            "Requirement already satisfied: pyasn1-modules>=0.2.1 in /usr/local/lib/python3.7/dist-packages (from google-auth<3,>=1.6.3->tensorboard<2.9,>=2.8->tensorflow) (0.2.8)\n",
            "Requirement already satisfied: cachetools<5.0,>=2.0.0 in /usr/local/lib/python3.7/dist-packages (from google-auth<3,>=1.6.3->tensorboard<2.9,>=2.8->tensorflow) (4.2.4)\n",
            "Requirement already satisfied: requests-oauthlib>=0.7.0 in /usr/local/lib/python3.7/dist-packages (from google-auth-oauthlib<0.5,>=0.4.1->tensorboard<2.9,>=2.8->tensorflow) (1.3.1)\n",
            "Requirement already satisfied: importlib-metadata>=4.4 in /usr/local/lib/python3.7/dist-packages (from markdown>=2.6.8->tensorboard<2.9,>=2.8->tensorflow) (4.11.3)\n",
            "Requirement already satisfied: zipp>=0.5 in /usr/local/lib/python3.7/dist-packages (from importlib-metadata>=4.4->markdown>=2.6.8->tensorboard<2.9,>=2.8->tensorflow) (3.8.0)\n",
            "Requirement already satisfied: pyasn1<0.5.0,>=0.4.6 in /usr/local/lib/python3.7/dist-packages (from pyasn1-modules>=0.2.1->google-auth<3,>=1.6.3->tensorboard<2.9,>=2.8->tensorflow) (0.4.8)\n",
            "Requirement already satisfied: urllib3!=1.25.0,!=1.25.1,<1.26,>=1.21.1 in /usr/local/lib/python3.7/dist-packages (from requests<3,>=2.21.0->tensorboard<2.9,>=2.8->tensorflow) (1.24.3)\n",
            "Requirement already satisfied: idna<3,>=2.5 in /usr/local/lib/python3.7/dist-packages (from requests<3,>=2.21.0->tensorboard<2.9,>=2.8->tensorflow) (2.10)\n",
            "Requirement already satisfied: certifi>=2017.4.17 in /usr/local/lib/python3.7/dist-packages (from requests<3,>=2.21.0->tensorboard<2.9,>=2.8->tensorflow) (2021.10.8)\n",
            "Requirement already satisfied: chardet<4,>=3.0.2 in /usr/local/lib/python3.7/dist-packages (from requests<3,>=2.21.0->tensorboard<2.9,>=2.8->tensorflow) (3.0.4)\n",
            "Requirement already satisfied: oauthlib>=3.0.0 in /usr/local/lib/python3.7/dist-packages (from requests-oauthlib>=0.7.0->google-auth-oauthlib<0.5,>=0.4.1->tensorboard<2.9,>=2.8->tensorflow) (3.2.0)\n",
            "Installing collected packages: tf-estimator-nightly\n",
            "Successfully installed tf-estimator-nightly-2.8.0.dev2021122109\n"
          ]
        }
      ],
      "source": [
        "!pip install tensorflow\n",
        "\n",
        "import pandas as pd\n",
        "import numpy as np\n",
        "from music21 import converter, midi, note, chord, pitch, instrument, stream\n",
        "from keras.models import Sequential, load_model\n",
        "from keras.layers import LSTM, Dropout, Dense, Activation, Embedding, Flatten, BatchNormalization, Reshape\n",
        "import pickle\n",
        "from tensorflow.keras.utils import to_categorical\n",
        "import pickle"
      ]
    },
    {
      "cell_type": "code",
      "execution_count": null,
      "metadata": {
        "id": "SA8kajE2X3ZX"
      },
      "outputs": [],
      "source": [
        "csv_data_path = root_dir + \"data/maestro_beethoven.csv\"\n",
        "data = pd.read_csv(csv_data_path)"
      ]
    },
    {
      "cell_type": "code",
      "execution_count": null,
      "metadata": {
        "id": "OV77rn54Z9W6"
      },
      "outputs": [],
      "source": [
        "data[\"midi_filename\"] = data[\"midi_filename\"].apply(lambda x: \"data/maestro_beethoven/\" + x)"
      ]
    },
    {
      "cell_type": "code",
      "execution_count": null,
      "metadata": {
        "colab": {
          "base_uri": "https://localhost:8080/",
          "height": 206
        },
        "id": "AcKC35WyaVzL",
        "outputId": "218750e9-a298-4ded-da58-a80e293568b2"
      },
      "outputs": [
        {
          "output_type": "execute_result",
          "data": {
            "text/plain": [
              "     canonical_composer                                    canonical_title  \\\n",
              "0  Ludwig van Beethoven  15 Variations and Fugue in Eb on an Original T...   \n",
              "1  Ludwig van Beethoven                  Andante favori in F Major, WoO 57   \n",
              "2  Ludwig van Beethoven                                   Bagatelles Op126   \n",
              "3  Ludwig van Beethoven                     Bagatelles, Op. 126 (Complete)   \n",
              "4  Ludwig van Beethoven                                  Bagtellen, Op.126   \n",
              "\n",
              "        split  year                                      midi_filename  \\\n",
              "0  validation  2004  data/maestro_beethoven/MIDI-Unprocessed_SMF_13...   \n",
              "1  validation  2018  data/maestro_beethoven/MIDI-Unprocessed_Chambe...   \n",
              "2       train  2006  data/maestro_beethoven/MIDI-Unprocessed_11_R1_...   \n",
              "3       train  2014  data/maestro_beethoven/MIDI-UNPROCESSED_04-08-...   \n",
              "4       train  2009  data/maestro_beethoven/MIDI-Unprocessed_10_R1_...   \n",
              "\n",
              "                                      audio_filename     duration  \n",
              "0  2004/MIDI-Unprocessed_SMF_13_01_2004_01-05_ORI...  1402.554623  \n",
              "1  2018/MIDI-Unprocessed_Chamber6_MID--AUDIO_20_R...   524.024583  \n",
              "2  2006/MIDI-Unprocessed_11_R1_2006_01-06_ORIG_MI...  1108.037086  \n",
              "3  2014/MIDI-UNPROCESSED_04-08-12_R3_2014_MID--AU...  1158.832976  \n",
              "4  2009/MIDI-Unprocessed_10_R1_2009_01-02_ORIG_MI...  1136.373062  "
            ],
            "text/html": [
              "\n",
              "  <div id=\"df-e73f4a3d-906f-4003-96bf-af5d37a43245\">\n",
              "    <div class=\"colab-df-container\">\n",
              "      <div>\n",
              "<style scoped>\n",
              "    .dataframe tbody tr th:only-of-type {\n",
              "        vertical-align: middle;\n",
              "    }\n",
              "\n",
              "    .dataframe tbody tr th {\n",
              "        vertical-align: top;\n",
              "    }\n",
              "\n",
              "    .dataframe thead th {\n",
              "        text-align: right;\n",
              "    }\n",
              "</style>\n",
              "<table border=\"1\" class=\"dataframe\">\n",
              "  <thead>\n",
              "    <tr style=\"text-align: right;\">\n",
              "      <th></th>\n",
              "      <th>canonical_composer</th>\n",
              "      <th>canonical_title</th>\n",
              "      <th>split</th>\n",
              "      <th>year</th>\n",
              "      <th>midi_filename</th>\n",
              "      <th>audio_filename</th>\n",
              "      <th>duration</th>\n",
              "    </tr>\n",
              "  </thead>\n",
              "  <tbody>\n",
              "    <tr>\n",
              "      <th>0</th>\n",
              "      <td>Ludwig van Beethoven</td>\n",
              "      <td>15 Variations and Fugue in Eb on an Original T...</td>\n",
              "      <td>validation</td>\n",
              "      <td>2004</td>\n",
              "      <td>data/maestro_beethoven/MIDI-Unprocessed_SMF_13...</td>\n",
              "      <td>2004/MIDI-Unprocessed_SMF_13_01_2004_01-05_ORI...</td>\n",
              "      <td>1402.554623</td>\n",
              "    </tr>\n",
              "    <tr>\n",
              "      <th>1</th>\n",
              "      <td>Ludwig van Beethoven</td>\n",
              "      <td>Andante favori in F Major, WoO 57</td>\n",
              "      <td>validation</td>\n",
              "      <td>2018</td>\n",
              "      <td>data/maestro_beethoven/MIDI-Unprocessed_Chambe...</td>\n",
              "      <td>2018/MIDI-Unprocessed_Chamber6_MID--AUDIO_20_R...</td>\n",
              "      <td>524.024583</td>\n",
              "    </tr>\n",
              "    <tr>\n",
              "      <th>2</th>\n",
              "      <td>Ludwig van Beethoven</td>\n",
              "      <td>Bagatelles Op126</td>\n",
              "      <td>train</td>\n",
              "      <td>2006</td>\n",
              "      <td>data/maestro_beethoven/MIDI-Unprocessed_11_R1_...</td>\n",
              "      <td>2006/MIDI-Unprocessed_11_R1_2006_01-06_ORIG_MI...</td>\n",
              "      <td>1108.037086</td>\n",
              "    </tr>\n",
              "    <tr>\n",
              "      <th>3</th>\n",
              "      <td>Ludwig van Beethoven</td>\n",
              "      <td>Bagatelles, Op. 126 (Complete)</td>\n",
              "      <td>train</td>\n",
              "      <td>2014</td>\n",
              "      <td>data/maestro_beethoven/MIDI-UNPROCESSED_04-08-...</td>\n",
              "      <td>2014/MIDI-UNPROCESSED_04-08-12_R3_2014_MID--AU...</td>\n",
              "      <td>1158.832976</td>\n",
              "    </tr>\n",
              "    <tr>\n",
              "      <th>4</th>\n",
              "      <td>Ludwig van Beethoven</td>\n",
              "      <td>Bagtellen, Op.126</td>\n",
              "      <td>train</td>\n",
              "      <td>2009</td>\n",
              "      <td>data/maestro_beethoven/MIDI-Unprocessed_10_R1_...</td>\n",
              "      <td>2009/MIDI-Unprocessed_10_R1_2009_01-02_ORIG_MI...</td>\n",
              "      <td>1136.373062</td>\n",
              "    </tr>\n",
              "  </tbody>\n",
              "</table>\n",
              "</div>\n",
              "      <button class=\"colab-df-convert\" onclick=\"convertToInteractive('df-e73f4a3d-906f-4003-96bf-af5d37a43245')\"\n",
              "              title=\"Convert this dataframe to an interactive table.\"\n",
              "              style=\"display:none;\">\n",
              "        \n",
              "  <svg xmlns=\"http://www.w3.org/2000/svg\" height=\"24px\"viewBox=\"0 0 24 24\"\n",
              "       width=\"24px\">\n",
              "    <path d=\"M0 0h24v24H0V0z\" fill=\"none\"/>\n",
              "    <path d=\"M18.56 5.44l.94 2.06.94-2.06 2.06-.94-2.06-.94-.94-2.06-.94 2.06-2.06.94zm-11 1L8.5 8.5l.94-2.06 2.06-.94-2.06-.94L8.5 2.5l-.94 2.06-2.06.94zm10 10l.94 2.06.94-2.06 2.06-.94-2.06-.94-.94-2.06-.94 2.06-2.06.94z\"/><path d=\"M17.41 7.96l-1.37-1.37c-.4-.4-.92-.59-1.43-.59-.52 0-1.04.2-1.43.59L10.3 9.45l-7.72 7.72c-.78.78-.78 2.05 0 2.83L4 21.41c.39.39.9.59 1.41.59.51 0 1.02-.2 1.41-.59l7.78-7.78 2.81-2.81c.8-.78.8-2.07 0-2.86zM5.41 20L4 18.59l7.72-7.72 1.47 1.35L5.41 20z\"/>\n",
              "  </svg>\n",
              "      </button>\n",
              "      \n",
              "  <style>\n",
              "    .colab-df-container {\n",
              "      display:flex;\n",
              "      flex-wrap:wrap;\n",
              "      gap: 12px;\n",
              "    }\n",
              "\n",
              "    .colab-df-convert {\n",
              "      background-color: #E8F0FE;\n",
              "      border: none;\n",
              "      border-radius: 50%;\n",
              "      cursor: pointer;\n",
              "      display: none;\n",
              "      fill: #1967D2;\n",
              "      height: 32px;\n",
              "      padding: 0 0 0 0;\n",
              "      width: 32px;\n",
              "    }\n",
              "\n",
              "    .colab-df-convert:hover {\n",
              "      background-color: #E2EBFA;\n",
              "      box-shadow: 0px 1px 2px rgba(60, 64, 67, 0.3), 0px 1px 3px 1px rgba(60, 64, 67, 0.15);\n",
              "      fill: #174EA6;\n",
              "    }\n",
              "\n",
              "    [theme=dark] .colab-df-convert {\n",
              "      background-color: #3B4455;\n",
              "      fill: #D2E3FC;\n",
              "    }\n",
              "\n",
              "    [theme=dark] .colab-df-convert:hover {\n",
              "      background-color: #434B5C;\n",
              "      box-shadow: 0px 1px 3px 1px rgba(0, 0, 0, 0.15);\n",
              "      filter: drop-shadow(0px 1px 2px rgba(0, 0, 0, 0.3));\n",
              "      fill: #FFFFFF;\n",
              "    }\n",
              "  </style>\n",
              "\n",
              "      <script>\n",
              "        const buttonEl =\n",
              "          document.querySelector('#df-e73f4a3d-906f-4003-96bf-af5d37a43245 button.colab-df-convert');\n",
              "        buttonEl.style.display =\n",
              "          google.colab.kernel.accessAllowed ? 'block' : 'none';\n",
              "\n",
              "        async function convertToInteractive(key) {\n",
              "          const element = document.querySelector('#df-e73f4a3d-906f-4003-96bf-af5d37a43245');\n",
              "          const dataTable =\n",
              "            await google.colab.kernel.invokeFunction('convertToInteractive',\n",
              "                                                     [key], {});\n",
              "          if (!dataTable) return;\n",
              "\n",
              "          const docLinkHtml = 'Like what you see? Visit the ' +\n",
              "            '<a target=\"_blank\" href=https://colab.research.google.com/notebooks/data_table.ipynb>data table notebook</a>'\n",
              "            + ' to learn more about interactive tables.';\n",
              "          element.innerHTML = '';\n",
              "          dataTable['output_type'] = 'display_data';\n",
              "          await google.colab.output.renderOutput(dataTable, element);\n",
              "          const docLink = document.createElement('div');\n",
              "          docLink.innerHTML = docLinkHtml;\n",
              "          element.appendChild(docLink);\n",
              "        }\n",
              "      </script>\n",
              "    </div>\n",
              "  </div>\n",
              "  "
            ]
          },
          "metadata": {},
          "execution_count": 8
        }
      ],
      "source": [
        "data.head()"
      ]
    },
    {
      "cell_type": "markdown",
      "metadata": {
        "id": "mbS1lcoLafDn"
      },
      "source": [
        "## **Converting midi files to a list of notes, chords and rest sequences**"
      ]
    },
    {
      "cell_type": "code",
      "execution_count": null,
      "metadata": {
        "id": "lDil79IMajNZ"
      },
      "outputs": [],
      "source": [
        "def getComponents(path):\n",
        "    file = converter.parse(path)\n",
        "    components = []\n",
        "    for element in file.recurse():\n",
        "        if isinstance(element, note.Note):\n",
        "            components.append(str(element.pitch))\n",
        "        elif isinstance(element, chord.Chord):\n",
        "            components.append('.'.join(str(n) for n in element.normalOrder))\n",
        "        elif isinstance(element, note.Rest):\n",
        "            components.append(\"Rest\")\n",
        "\n",
        "    return components"
      ]
    },
    {
      "cell_type": "markdown",
      "metadata": {
        "id": "U2miMvmka1DY"
      },
      "source": [
        "Creating a list for notes, chords and rest for some n number of songs"
      ]
    },
    {
      "cell_type": "code",
      "execution_count": null,
      "metadata": {
        "colab": {
          "base_uri": "https://localhost:8080/"
        },
        "id": "mEUBvdqEa32R",
        "outputId": "7a84b5ab-c725-4b5b-9fe3-f6b0d13cf0cb"
      },
      "outputs": [
        {
          "output_type": "stream",
          "name": "stdout",
          "text": [
            "0 Done\n",
            "1 Done\n",
            "2 Done\n",
            "3 Done\n",
            "4 Done\n",
            "5 Done\n",
            "6 Done\n",
            "7 Done\n",
            "8 Done\n",
            "9 Done\n",
            "10 Done\n",
            "11 Done\n",
            "12 Done\n",
            "13 Done\n",
            "14 Done\n",
            "15 Done\n",
            "16 Done\n",
            "17 Done\n",
            "18 Done\n",
            "19 Done\n",
            "20 Done\n",
            "21 Done\n",
            "22 Done\n",
            "23 Done\n",
            "24 Done\n",
            "25 Done\n",
            "26 Done\n",
            "27 Done\n",
            "28 Done\n",
            "29 Done\n",
            "30 Done\n",
            "31 Done\n",
            "32 Done\n",
            "33 Done\n",
            "34 Done\n",
            "35 Done\n",
            "36 Done\n",
            "37 Done\n",
            "38 Done\n",
            "39 Done\n",
            "40 Done\n",
            "41 Done\n",
            "42 Done\n",
            "43 Done\n",
            "44 Done\n",
            "45 Done\n",
            "46 Done\n",
            "47 Done\n",
            "48 Done\n"
          ]
        }
      ],
      "source": [
        "try:\n",
        "  # GPU device\n",
        "  with tf.device('/device:GPU:0'):\n",
        "    a = []\n",
        "    count = 0\n",
        "    for i in range(50):\n",
        "      print(\"{} Done\".format(i))\n",
        "      a.append(getComponents(root_dir + data[\"midi_filename\"][i]))\n",
        "except RuntimeError as e:\n",
        "  print(e)\n",
        "\n",
        "\n"
      ]
    },
    {
      "cell_type": "markdown",
      "metadata": {
        "id": "HWpH8wDvbHWs"
      },
      "source": [
        "Stacking the sequences into a single list"
      ]
    },
    {
      "cell_type": "code",
      "execution_count": null,
      "metadata": {
        "id": "F7ZtPHYUbKcm"
      },
      "outputs": [],
      "source": [
        "notes = [j for element in a for j in element]"
      ]
    },
    {
      "cell_type": "markdown",
      "metadata": {
        "id": "xs2dRKCSx8JM"
      },
      "source": [
        "## Creating a list of some sequences which will be fed to the model for training"
      ]
    },
    {
      "cell_type": "code",
      "execution_count": null,
      "metadata": {
        "id": "vANf9SSuyHkb"
      },
      "outputs": [],
      "source": [
        "def Sequences(notes): \n",
        "    seqL = 50\n",
        "    unique_char = len(set(notes)) \n",
        "    pitchnames = sorted(set(item for item in notes))\n",
        "    note_to_int = dict((note, number) for number, note in enumerate(pitchnames))\n",
        "    network_input = []\n",
        "    network_output = []\n",
        "    for i in range(0, len(notes) - seqL):\n",
        "        sequence_in = notes[i: i + seqL]\n",
        "        sequence_out = notes[i + seqL]\n",
        "        network_input.append([note_to_int[char] for char in sequence_in])\n",
        "        network_output.append(note_to_int[sequence_out])\n",
        "    n_patterns = len(network_input)\n",
        "    network_input = np.reshape(network_input, (n_patterns, seqL, 1))\n",
        "    network_input = network_input / float(unique_char)\n",
        "    network_output = to_categorical(network_output)\n",
        "    return (network_input, network_output)"
      ]
    },
    {
      "cell_type": "markdown",
      "metadata": {
        "id": "Fk_iyiQ6yKLF"
      },
      "source": [
        "## Model"
      ]
    },
    {
      "cell_type": "code",
      "execution_count": null,
      "metadata": {
        "id": "vCN7188ryOOt"
      },
      "outputs": [],
      "source": [
        "# https://www.kaggle.com/code/timno1/midi-transcriptions-with-lstm\n",
        "len_seq = 0.1\n",
        "def Normal_LSTM_Model(network_in, unique_char): \n",
        "    model = Sequential()\n",
        "    model.add(LSTM(256, input_shape=network_in.shape[1:], activation='relu', return_sequences=True))\n",
        "    model.add(BatchNormalization())\n",
        "    model.add(LSTM(512, activation='relu', return_sequences=True))\n",
        "    model.add(Flatten())\n",
        "    model.add(Dense(512, activation='relu'))\n",
        "    model.add(Dropout(0.3))\n",
        "    model.add(Dense(unique_char))\n",
        "    model.add(Activation('softmax'))\n",
        "    model.compile(loss='categorical_crossentropy', optimizer='adam', metrics = [\"accuracy\"])\n",
        "\n",
        "    return model "
      ]
    },
    {
      "cell_type": "markdown",
      "metadata": {
        "id": "wXcCu_d6yQqb"
      },
      "source": [
        "## Training"
      ]
    },
    {
      "cell_type": "code",
      "execution_count": null,
      "metadata": {
        "id": "_DrDj3rpyT34"
      },
      "outputs": [],
      "source": [
        "from keras.callbacks import ModelCheckpoint     \n",
        "def train_network(notes, epochs = 5):\n",
        "    unique_char = len(set(notes))\n",
        "    network_input, network_output = Sequences(notes)\n",
        "    #model = Normal_LSTM_Model(network_input, unique_char)\n",
        "    input_model_filepath = root_dir + \"LSTM_checkpoints/Seq50_Trained50_110_Epochs_May_8.hdf5\"\n",
        "    model = load_model(input_model_filepath)\n",
        "    #print(\"Model loaded\")\n",
        "    print('Training in progress')\n",
        "    filepath = root_dir + \"LSTM_checkpoints/Seq50_Trained50_130_Epochs_May_8.hdf5\"\n",
        "    checkpoint = ModelCheckpoint(filepath, monitor='loss', verbose=0, save_best_only=True)\n",
        "    model.fit(network_input, network_output, epochs=epochs, batch_size=32, callbacks=[checkpoint]) \n",
        "    print('Training completed') \n",
        "    return model"
      ]
    },
    {
      "cell_type": "code",
      "execution_count": null,
      "metadata": {
        "id": "JddgTHF4yWXw"
      },
      "outputs": [],
      "source": [
        "try:\n",
        "  # GPU device\n",
        "  with tf.device('/device:GPU:0'):\n",
        "    model  = train_network(notes, 20)\n",
        "except RuntimeError as e:\n",
        "  print(e)\n",
        "  model  = train_network(notes, 20)\n",
        "\n",
        "#input_model_filepath = root_dir + \"LSTM_checkpoints/Trained146_15_Epochs.hdf5\"\n",
        "#model = load_model(input_model_filepath)"
      ]
    },
    {
      "cell_type": "markdown",
      "metadata": {
        "id": "USiOLpiDydlt"
      },
      "source": [
        "## Converting model output into midi notes, chords and rest format"
      ]
    },
    {
      "cell_type": "code",
      "execution_count": null,
      "metadata": {
        "id": "R82VsS_wyjCY"
      },
      "outputs": [],
      "source": [
        "def generate_notes(model, network_input, pitchnames, unique_char):\n",
        "    start = np.random.randint(0, len(network_input)-1)\n",
        "    int_to_note = dict((number, note) for number, note in enumerate(pitchnames))\n",
        "    pattern = network_input[start]\n",
        "    prediction_output = []\n",
        "    print('Generating')\n",
        "    i = 1\n",
        "    for note_index in range(300):\n",
        "        if note_index%10 ==0:\n",
        "          print(\"{}% Done\".format(i*10))\n",
        "          i += 1\n",
        "        prediction_input = np.reshape(pattern, (1, len(pattern), 1))\n",
        "        prediction_input = prediction_input / float(unique_char)\n",
        "        prediction = model.predict(prediction_input.astype('float32'), verbose=0)\n",
        "        index = np.argmax(prediction)\n",
        "        result = int_to_note[index]\n",
        "        prediction_output.append(result)\n",
        "        pattern = list(pattern)\n",
        "        pattern.append(index)\n",
        "        pattern = pattern[1:len(pattern)]\n",
        "\n",
        "    print('Done')\n",
        "    return prediction_output"
      ]
    },
    {
      "cell_type": "code",
      "execution_count": null,
      "metadata": {
        "id": "KeTx8BgnymEH"
      },
      "outputs": [],
      "source": [
        "unique_char = len(set(notes))\n",
        "network_input, _ = Sequences(notes)\n",
        "pitchnames = sorted(set(item for item in notes))\n",
        "prediction_output = generate_notes(model, network_input, pitchnames, unique_char)"
      ]
    },
    {
      "cell_type": "code",
      "execution_count": null,
      "metadata": {
        "id": "JaxWd8uJyopv"
      },
      "outputs": [],
      "source": [
        "def create_midi(prediction_output, pred_out_file):\n",
        "    offset = 0\n",
        "    output_notes = []\n",
        "    for pattern in prediction_output:\n",
        "        if ('.' in pattern) or pattern.isdigit():\n",
        "            notes_in_chord = pattern.split('.')\n",
        "            notes = []\n",
        "            for current_note in notes_in_chord:\n",
        "                new_note = note.Note(int(current_note))\n",
        "                new_note.storedInstrument = instrument.Piano()\n",
        "                notes.append(new_note)\n",
        "            new_chord = chord.Chord(notes)\n",
        "            new_chord.offset = offset\n",
        "            output_notes.append(new_chord)\n",
        "        elif pattern == \"Rest\":\n",
        "            new_note = note.Rest(pattern)\n",
        "            new_note.offset = offset\n",
        "            new_note.storedInstrument = instrument.Piano()\n",
        "            output_notes.append(new_note)\n",
        "        else:\n",
        "            new_note = note.Note(pattern)\n",
        "            new_note.offset = offset\n",
        "            new_note.storedInstrument = instrument.Piano()\n",
        "            output_notes.append(new_note)\n",
        "        offset += 0.5\n",
        "    midi_stream = stream.Stream(output_notes)\n",
        "    midi_stream.write('midi', fp=pred_out_file)\n",
        "    print('Output Saved as midi file')"
      ]
    },
    {
      "cell_type": "code",
      "source": [
        "pred_out_file = root_dir + \"LSTM_outputs/may_12_final_run_10.mid\"\n",
        "create_midi(prediction_output, pred_out_file)"
      ],
      "metadata": {
        "id": "fLYApDia_Kmz"
      },
      "execution_count": null,
      "outputs": []
    }
  ],
  "metadata": {
    "accelerator": "GPU",
    "colab": {
      "collapsed_sections": [],
      "name": "PianoGenLSTM.ipynb",
      "provenance": [],
      "include_colab_link": true
    },
    "kernelspec": {
      "display_name": "Python 3",
      "name": "python3"
    },
    "language_info": {
      "name": "python"
    }
  },
  "nbformat": 4,
  "nbformat_minor": 0
}